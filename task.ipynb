{
  "nbformat": 4,
  "nbformat_minor": 0,
  "metadata": {
    "colab": {
      "name": "Untitled0.ipynb",
      "provenance": [],
      "collapsed_sections": []
    },
    "kernelspec": {
      "name": "python3",
      "display_name": "Python 3"
    },
    "accelerator": "GPU"
  },
  "cells": [
    {
      "cell_type": "code",
      "metadata": {
        "id": "JK0iTYBxjttz",
        "colab_type": "code",
        "outputId": "1dcb934f-496b-4b58-f367-78d6c68d09f2",
        "colab": {
          "base_uri": "https://localhost:8080/",
          "height": 323
        }
      },
      "source": [
        "import numpy as np\n",
        "w11=0.79\n",
        "w21=0.44\n",
        "w31=0.43\n",
        "#\n",
        "w12=0.85\n",
        "w22=0.43\n",
        "w32=0.29\n",
        "##\n",
        "w13=0.5\n",
        "w23=0.52\n",
        "#\n",
        "learning_rate=0.01\n",
        "#################\n",
        "def sigmoid(x):\n",
        "    return(1/(1+np.exp(-x)))\n",
        "###\n",
        "# b1 b2\n",
        "##\n",
        "n=0\n",
        "while n<100000:\n",
        "    for i in [[0,0,0,0],[0,0,1,1],[0,1,0,0],[0,1,1,0],[1,0,0,1],[1,0,1,1],[1,1,0,0],[1,1,1,1]]:\n",
        "        b1=sigmoid(i[0]*w11+i[1]*w21+i[2]*w31) #получил b1\n",
        "        b2=sigmoid(i[0]*w12+i[1]*w22+i[2]*w32) #получил b2\n",
        "        #\n",
        "        c=sigmoid(b1*w13+b2*w23)#получил c\n",
        "        error=c-i[3]\n",
        "        weights_delta=error*c*(1-c)\n",
        "        #\n",
        "        #print(b1,b2,c,'b1b2c')\n",
        "        w13=w13-b1*weights_delta*learning_rate\n",
        "        w23=w23-b2*weights_delta*learning_rate\n",
        "        error1=w13*weights_delta\n",
        "        error2=w23*weights_delta\n",
        "        weights_delta1=error1*b1*(1-b1)\n",
        "        weights_delta2=error2*b2*(1-b2)\n",
        "        #\n",
        "        w11=w11-i[0]*weights_delta1*learning_rate\n",
        "        w21=w21-i[1]*weights_delta1*learning_rate\n",
        "        w31=w31-i[2]*weights_delta1*learning_rate\n",
        "        #\n",
        "        w12=w12-i[0]*weights_delta1*learning_rate\n",
        "        w22=w22-i[0]*weights_delta1*learning_rate\n",
        "        w32=w32-i[0]*weights_delta1*learning_rate\n",
        "        #print(w11,w12,w13,'w11w12w13',w21,w22,w23,'w21w22w23')\n",
        "        #print(w21,w22,'w21w22')\n",
        "    n+=1\n",
        "\n",
        "######################\n",
        "T=0\n",
        "print(sigmoid(sigmoid(w11+w21)*w13+sigmoid(w12+w22)*w23))\n",
        "for i in [[0,0,0,0],[0,0,1,1],[0,1,0,0],[0,1,1,0],[1,0,0,1],[1,0,1,1],[1,1,0,0],[1,1,1,1]] :\n",
        "              a=sigmoid(sigmoid(w11*i[0]+w21*i[1]+w31*i[2])*w13+sigmoid(w12*i[0]+w22*i[1]+w32*i[2])*w23)\n",
        "              print(a)\n",
        "              if a<0.5 and i[3]==0:\n",
        "                 print('T')\n",
        "                 T+=1\n",
        "              if a>=0.5 and i[3]==1:\n",
        "                  print('T')\n",
        "                  T+=1\n",
        "print(T)            \n",
        "print(T/8*100,'%')              "
      ],
      "execution_count": 0,
      "outputs": [
        {
          "output_type": "stream",
          "text": [
            "0.03492248006858077\n",
            "0.708306503334321\n",
            "0.855914388925984\n",
            "T\n",
            "0.006303712925943955\n",
            "T\n",
            "0.03475831097583289\n",
            "T\n",
            "0.8537122583664408\n",
            "T\n",
            "0.8550005766089097\n",
            "T\n",
            "0.03492248006858077\n",
            "T\n",
            "0.8425270531741312\n",
            "T\n",
            "7\n",
            "87.5 %\n"
          ],
          "name": "stdout"
        }
      ]
    },
    {
      "cell_type": "code",
      "metadata": {
        "id": "oWxZI-dg8f5I",
        "colab_type": "code",
        "outputId": "face8783-e296-48db-e84c-734923232088",
        "colab": {
          "base_uri": "https://localhost:8080/",
          "height": 343
        }
      },
      "source": [
        "import numpy as np\n",
        "import random\n",
        "def sigmoid(x):\n",
        "    return(1/(1+np.exp(-x)))\n",
        "#\n",
        "def masm(a,b):\n",
        "  n=0\n",
        "  c=[]\n",
        "  for i in a :\n",
        "    c.append(i*b[n])\n",
        "    n+=1\n",
        "  s=0\n",
        "  for i in c:\n",
        "    s+=i\n",
        "  return(s)\n",
        "#\n",
        "learning_rate=3\n",
        "#\n",
        "w12=[]# W с 1р на 2р\n",
        "w23=[]\n",
        "n=5677\n",
        "#\n",
        "for i in range(3):\n",
        "  w23.append(random.random())\n",
        "  sss=[]\n",
        "  for ii in range(3) :\n",
        "    sss.append(random.random())\n",
        "  w12.append(sss)\n",
        "print(w12,w23)\n",
        "r=[1,0,0,0,1,1,0,1]\n",
        "#\n",
        "h2=[]\n",
        "#\n",
        "n=0\n",
        "nnn=800000\n",
        "while n<nnn :\n",
        "  nr=0 # номер пробы\n",
        "  if n==nnn/2 or n==nnn/3 or n==nnn/5 or n==nnn/1.7 or n==nnn/1.5 :\n",
        "    learning_rate=learning_rate/2\n",
        "  if n==nnn/1.2 :\n",
        "    learning_rate=learning_rate/6\n",
        "\n",
        "\n",
        "  for i in [[1,1,0],[0,0,1],[0,1,0],[0,1,1],[1,0,0],[1,0,1],[0,0,0],[1,1,1]]:\n",
        "    h2=[]\n",
        "    for iw12 in w12:\n",
        "      h2.append(sigmoid(masm(i,iw12)))\n",
        "    #h2 есть\n",
        "    h3=sigmoid(masm(h2,w23))\n",
        "    #h3 есть\n",
        "    error=h3-r[nr]\n",
        "    weights_delta=error*h3*(1-h3)\n",
        "    #всё для h3 есть \n",
        "    nw=0 #номер связи 2 случая\n",
        "    for w in w23 :\n",
        "      wnov=w-h2[nw]*weights_delta*learning_rate\n",
        "      w23[nw]=wnov\n",
        "      nw+=1\n",
        "    # w второй ряд посчитан \n",
        "    nih2=0 # номер h2\n",
        "    weights_del=weights_delta\n",
        "    for ih2 in h2 :# все h2-e\n",
        "      \n",
        "      error=weights_del*w23[nih2]#good\n",
        "      weights_delta=error*h2[nih2]*(1-h2[nih2])\n",
        "      # для  одного из h2 готово\n",
        "      w0=w12[nih2][0]-i[0]*weights_delta*learning_rate\n",
        "      w12[nih2][0]=w0\n",
        "      w1=w12[nih2][1]-i[1]*weights_delta*learning_rate\n",
        "      w12[nih2][1]=w1\n",
        "      w2=w12[nih2][2]-i[2]*weights_delta*learning_rate\n",
        "      w12[nih2][2]=w2\n",
        "      nih2+=1\n",
        "    nr+=1\n",
        "  n+=1\n",
        "#################################\n",
        "n=0\n",
        "T=0\n",
        "for i in [[1,1,0],[0,0,1],[0,1,0],[0,1,1],[1,0,0],[1,0,1],[0,0,0],[1,1,1]]:\n",
        "    h2=[]\n",
        "    for iw12 in w12:\n",
        "      h2.append(sigmoid(masm(i,iw12)))\n",
        "    #h2 есть\n",
        "    h3=sigmoid(masm(h2,w23))\n",
        "    #h3 есть\n",
        "    if h3>0.5:\n",
        "      o=1\n",
        "      print(h3*100,'%')\n",
        "    if h3<0.5:\n",
        "      o=0\n",
        "      print((1-h3)*100,'%')\n",
        "    if o==r[n]:\n",
        "      T+=1\n",
        "      print('T')\n",
        "    n+=1\n",
        "print(T)\n",
        "\n",
        "    "
      ],
      "execution_count": 0,
      "outputs": [
        {
          "output_type": "stream",
          "text": [
            "[[0.24120330049447447, 0.29052827519211777, 0.8867693694258061], [0.7013231933781632, 0.06886301493649127, 0.14136251831457047], [0.8008939904040331, 0.20557762070132224, 0.25826535562457487]] [0.09664894005575209, 0.6027857586335931, 0.577659097524856]\n",
            "99.93843069410312 %\n",
            "T\n",
            "99.98823505917451 %\n",
            "T\n",
            "99.9882392695754 %\n",
            "T\n",
            "99.99859659014658 %\n",
            "T\n",
            "99.938301126414 %\n",
            "T\n",
            "99.93817699055772 %\n",
            "T\n",
            "99.83899988090124 %\n",
            "T\n",
            "99.93622895887677 %\n",
            "T\n",
            "8\n"
          ],
          "name": "stdout"
        }
      ]
    },
    {
      "cell_type": "code",
      "metadata": {
        "id": "fyQ8XFS7zXhf",
        "colab_type": "code",
        "colab": {}
      },
      "source": [
        ""
      ],
      "execution_count": 0,
      "outputs": []
    },
    {
      "cell_type": "code",
      "metadata": {
        "id": "V_xZ_znsUNn0",
        "colab_type": "code",
        "outputId": "8207579c-5e4b-4da2-ffdf-0e872701ddb0",
        "colab": {
          "base_uri": "https://localhost:8080/",
          "height": 289
        }
      },
      "source": [
        "\n",
        "import numpy as np\n",
        "w11=0.79\n",
        "w21=0.44\n",
        "w31=0.43\n",
        "#\n",
        "w12=0.85\n",
        "w22=0.43\n",
        "w32=0.29\n",
        "##\n",
        "w13=0.5\n",
        "w23=0.52\n",
        "#\n",
        "learning_rate=0.112\n",
        "#################\n",
        "def sigmoid(x):\n",
        "    return(1/(1+np.exp(-x)))\n",
        "###\n",
        "# b1 b2\n",
        "##\n",
        "n=0\n",
        "while n<5000:\n",
        "    for i in [[1,1,0,1],[0,0,1,0],[0,1,0,0],[0,1,1,0],[1,0,0,0],[1,0,1,0],[0,0,0,0],[1,1,1,0]]:\n",
        "        b1=sigmoid(i[0]*w11+i[1]*w21+i[2]*w31) #получил b1\n",
        "        b2=sigmoid(i[0]*w12+i[1]*w22+i[2]*w32) #получил b2\n",
        "        #\n",
        "        c=sigmoid(b1*w13+b2*w23)#получил c\n",
        "        error=c-i[3]\n",
        "        weights_delta=error*c*(1-c)\n",
        "        #\n",
        "        w13=w13-b1*weights_delta*learning_rate\n",
        "        w23=w23-b2*weights_delta*learning_rate\n",
        "        error1=w13*weights_delta\n",
        "        error2=w23*weights_delta\n",
        "        weights_delta1=error1*b1*(1-b1)\n",
        "        weights_delta2=error2*b2*(1-b2)\n",
        "        #\n",
        "        w11=w11-i[0]*weights_delta1*learning_rate\n",
        "        w21=w21-i[1]*weights_delta1*learning_rate\n",
        "        w31=w31-i[2]*weights_delta1*learning_rate\n",
        "        #\n",
        "        w12=w12-i[0]*weights_delta2*learning_rate\n",
        "        w22=w22-i[1]*weights_delta2*learning_rate\n",
        "        w32=w32-i[2]*weights_delta2*learning_rate\n",
        "    n+=1\n",
        "######################\n",
        "T=0\n",
        "for i in [[1,1,0,1],[0,0,1,0],[0,1,0,0],[0,1,1,0],[1,0,0,0],[1,0,1,0],[0,0,0,0],[1,1,1,0]]:\n",
        "              a=sigmoid(sigmoid(w11*i[0]+w21*i[1]+w31*i[2])*w13+sigmoid(w12*i[0]+w22*i[1]+w32*i[2])*w23)\n",
        "              print(a)\n",
        "              if a<0.5 and i[3]==0:\n",
        "                 print('T')\n",
        "                 T+=1\n",
        "              if a>=0.5 and i[3]==1:\n",
        "                  print('T')\n",
        "                  T+=1\n",
        "print(T)"
      ],
      "execution_count": 0,
      "outputs": [
        {
          "output_type": "stream",
          "text": [
            "0.462070376868257\n",
            "4.463361786497955e-05\n",
            "T\n",
            "0.08869502160755634\n",
            "T\n",
            "0.0015332490981508366\n",
            "T\n",
            "0.09420333587293402\n",
            "T\n",
            "0.0009582877630950817\n",
            "T\n",
            "0.0053483932313356\n",
            "T\n",
            "0.055037721668483225\n",
            "T\n",
            "7\n"
          ],
          "name": "stdout"
        }
      ]
    },
    {
      "cell_type": "code",
      "metadata": {
        "id": "mm5ULJcp9Y0Q",
        "colab_type": "code",
        "outputId": "b5891b6d-de9f-47d8-e6ce-64628f9b9f1d",
        "colab": {
          "base_uri": "https://localhost:8080/",
          "height": 34
        }
      },
      "source": [
        "a=[1,2,3]\n",
        "b=[3,4,2]\n",
        "def masm(a,b):\n",
        "  n=0\n",
        "  c=[]\n",
        "  for i in a :\n",
        "    c.append(i*b[n])\n",
        "    n+=1\n",
        "  return(c)\n",
        "print(masm(a,b))\n"
      ],
      "execution_count": 0,
      "outputs": [
        {
          "output_type": "stream",
          "text": [
            "[3, 8, 6]\n"
          ],
          "name": "stdout"
        }
      ]
    },
    {
      "cell_type": "code",
      "metadata": {
        "id": "QmdyQulizfz5",
        "colab_type": "code",
        "outputId": "9e1035d3-03b7-4fe8-b498-87bbab41470f",
        "colab": {
          "base_uri": "https://localhost:8080/",
          "height": 34
        }
      },
      "source": [
        "import numpy as np\n",
        "a=[1,2,3]\n",
        "b=[3,4,2]\n",
        "c=np.array(a)*np.array(b)\n",
        "print(c[2])"
      ],
      "execution_count": 0,
      "outputs": [
        {
          "output_type": "stream",
          "text": [
            "6\n"
          ],
          "name": "stdout"
        }
      ]
    },
    {
      "cell_type": "markdown",
      "metadata": {
        "id": "pEZkUVxZ269b",
        "colab_type": "text"
      },
      "source": [
        "Для картинок!!! "
      ]
    },
    {
      "cell_type": "code",
      "metadata": {
        "id": "iBEABI9Hmpiv",
        "colab_type": "code",
        "outputId": "6a83ff27-f2e0-4417-fde7-155868c74f97",
        "colab": {
          "base_uri": "https://localhost:8080/",
          "height": 51
        }
      },
      "source": [
        "import numpy as np\n",
        "import random\n",
        "from keras.datasets import mnist \n",
        "learning_rate=0.5\n",
        "(x_train, y_train), (x_test, y_test)=mnist.load_data()\n",
        "data=[]\n",
        "for i in range(6000):\n",
        "   s=[]\n",
        "   for ii in range(28):\n",
        "     s=list(s)+list(x_train[i][ii]/255)\n",
        "   data.append(s)\n",
        "print(len(data)) \n",
        "# есть data\n",
        "print(data[5][600])\n",
        "#################"
      ],
      "execution_count": 0,
      "outputs": [
        {
          "output_type": "stream",
          "text": [
            "6000\n",
            "0.1411764705882353\n"
          ],
          "name": "stdout"
        }
      ]
    },
    {
      "cell_type": "markdown",
      "metadata": {
        "id": "aiLY7tkQ3ERl",
        "colab_type": "text"
      },
      "source": [
        "Есть data "
      ]
    },
    {
      "cell_type": "code",
      "metadata": {
        "id": "r2_5FQDN3Htq",
        "colab_type": "code",
        "colab": {}
      },
      "source": [
        "kol_ner=50\n",
        "s_w1=[]\n",
        "for i in range(kol_ner):\n",
        "  sw=[]\n",
        "  for ii in range(784):\n",
        "    sw.append(random.random())\n",
        "  s_w1.append(sw)# набор весов 1\n",
        "#s_w1 список из списков [i][ii] [i] номер нерона [ii] вес для іі-го нейрона входа \n",
        "s_w2=[]\n",
        "for i in range(10):\n",
        "  sw=[]\n",
        "  for ii in range(kol_ner):\n",
        "    sw.append(random.random())\n",
        "  s_w2.append(sw)# набор весов 2"
      ],
      "execution_count": 0,
      "outputs": []
    },
    {
      "cell_type": "markdown",
      "metadata": {
        "id": "ragpwQP-NrQx",
        "colab_type": "text"
      },
      "source": [
        "Рандомные веса готовы"
      ]
    },
    {
      "cell_type": "code",
      "metadata": {
        "id": "qLOPrxrnWTfG",
        "colab_type": "code",
        "colab": {}
      },
      "source": [
        "def sigmoid(x):\n",
        "    return(1/(1+np.exp(-x)))\n",
        "def Softmax(b2):\n",
        "  b2=np.exp(b2)\n",
        "  sb2=np.sum(b2)\n",
        "  b2=b2/sb2\n",
        "  return(b2)\n",
        "def rez(r): # для результата\n",
        "  s=[0,0,0,0,0,0,0,0,0,0]\n",
        "  s[r]=1\n",
        "  s=np.array(s)\n",
        "  return(s)\n"
      ],
      "execution_count": 0,
      "outputs": []
    },
    {
      "cell_type": "code",
      "metadata": {
        "id": "K5EvHQIHNvYD",
        "colab_type": "code",
        "colab": {}
      },
      "source": [
        "\n",
        "def kyrs(s_w1,s_w2,iii) :\n",
        "  b1=[]\n",
        "  b2=[]\n",
        "  for i in range(kol_ner):\n",
        "    #print(np.dot(data,s_w1[i]),sigmoid(np.dot(data,s_w1[i])))\n",
        "    b1.append(sigmoid(np.dot(data[iii],s_w1[i])))\n",
        "  # 1 ряд b готов\n",
        "  for i in range(10):\n",
        "    b2.append(np.dot(b1,s_w2[i]))\n",
        "  b2=Softmax(b2)\n",
        "  # 2 ряд b готов\n",
        "  return(b1,b2)\n",
        "\n"
      ],
      "execution_count": 0,
      "outputs": []
    },
    {
      "cell_type": "markdown",
      "metadata": {
        "id": "3PMt2NI5B89S",
        "colab_type": "text"
      },
      "source": [
        "туда есть, теперь обратно"
      ]
    },
    {
      "cell_type": "code",
      "metadata": {
        "id": "2YI-2JfUCB33",
        "colab_type": "code",
        "colab": {}
      },
      "source": [
        "def kyrs2(s_w1,s_w2,b1,b2,iii,learning_rate):\n",
        "  error=(b2-rez(y_train[iii]))\n",
        "  weights_delta=((b2-rez(y_train[iii]))*b2*(1-b2))\n",
        "  for i in range(10):\n",
        "    w=np.array(s_w2[i])-np.array(b1)*weights_delta[i]*learning_rate\n",
        "    s_w2[i]=w\n",
        "  ###############\n",
        "  errorb1=[]\n",
        "  for i in range(kol_ner):\n",
        "    s_w22=[]\n",
        "    for ii in s_w2:\n",
        "      s_w22.append(ii[i])\n",
        "    error1=np.dot(np.array(s_w22),np.array(error))\n",
        "    errorb1.append(error1)\n",
        "  weights_delta=np.array(errorb1)*np.array(b1)*(1-np.array(b1))\n",
        "  for i in range(kol_ner):\n",
        "    w=np.array(s_w1[i])-np.array(data[iii])*weights_delta[i]*learning_rate\n",
        "    s_w1[i]=w\n",
        "  return(s_w1,s_w2)\n",
        "\n",
        "   \n",
        "\n",
        "  \n",
        "\n"
      ],
      "execution_count": 0,
      "outputs": []
    },
    {
      "cell_type": "markdown",
      "metadata": {
        "id": "qN_TLlStClT8",
        "colab_type": "text"
      },
      "source": [
        ""
      ]
    },
    {
      "cell_type": "code",
      "metadata": {
        "id": "v5Z7bvoGClvd",
        "colab_type": "code",
        "outputId": "bed83f28-392c-403b-b30e-ac4be7e6285d",
        "colab": {
          "base_uri": "https://localhost:8080/",
          "height": 51
        }
      },
      "source": [
        "n=0\n",
        "while n<100:\n",
        "  for iii in range(100):\n",
        "     b1,b2=kyrs(s_w1,s_w2,iii)\n",
        "     s_w1,s_w2=kyrs2(s_w1,s_w2,b1,b2,iii,learning_rate)\n",
        "  n+=1\n",
        "\n",
        "  \n"
      ],
      "execution_count": 0,
      "outputs": [
        {
          "output_type": "stream",
          "text": [
            "/usr/local/lib/python3.6/dist-packages/ipykernel_launcher.py:2: RuntimeWarning: overflow encountered in exp\n",
            "  \n"
          ],
          "name": "stderr"
        }
      ]
    },
    {
      "cell_type": "code",
      "metadata": {
        "id": "j2ek-noGKX3H",
        "colab_type": "code",
        "outputId": "c27fc13d-2d32-4a24-bebb-12933eee11e1",
        "colab": {
          "base_uri": "https://localhost:8080/",
          "height": 68
        }
      },
      "source": [
        "for iii in range(6):\n",
        "     b1,b2=kyrs(s_w1,s_w2,iii)\n",
        "     \n",
        "\n",
        "b1,b2=kyrs(s_w1,s_w2,1)\n",
        "print(b2)"
      ],
      "execution_count": 0,
      "outputs": [
        {
          "output_type": "stream",
          "text": [
            "[0.1 0.1 0.1 0.1 0.1 0.1 0.1 0.1 0.1 0.1]\n"
          ],
          "name": "stdout"
        },
        {
          "output_type": "stream",
          "text": [
            "/usr/local/lib/python3.6/dist-packages/ipykernel_launcher.py:2: RuntimeWarning: overflow encountered in exp\n",
            "  \n"
          ],
          "name": "stderr"
        }
      ]
    },
    {
      "cell_type": "code",
      "metadata": {
        "id": "RQjl0jfsQjOs",
        "colab_type": "code",
        "outputId": "6362b2c7-0400-4d2e-e8ac-0967f3ae2e8d",
        "colab": {
          "base_uri": "https://localhost:8080/",
          "height": 231
        }
      },
      "source": [
        "import numpy as np\n",
        "a = np.array([1, 2, 3])\n",
        "b=np.array([3,4,2])\n",
        "print(list(a))\n",
        "s=[]\n",
        "s.append(list(np.sum(a*b)))\n",
        "print(s)"
      ],
      "execution_count": 0,
      "outputs": [
        {
          "output_type": "stream",
          "text": [
            "[1, 2, 3]\n"
          ],
          "name": "stdout"
        },
        {
          "output_type": "error",
          "ename": "TypeError",
          "evalue": "ignored",
          "traceback": [
            "\u001b[0;31m---------------------------------------------------------------------------\u001b[0m",
            "\u001b[0;31mTypeError\u001b[0m                                 Traceback (most recent call last)",
            "\u001b[0;32m<ipython-input-51-611958b83300>\u001b[0m in \u001b[0;36m<module>\u001b[0;34m()\u001b[0m\n\u001b[1;32m      4\u001b[0m \u001b[0mprint\u001b[0m\u001b[0;34m(\u001b[0m\u001b[0mlist\u001b[0m\u001b[0;34m(\u001b[0m\u001b[0ma\u001b[0m\u001b[0;34m)\u001b[0m\u001b[0;34m)\u001b[0m\u001b[0;34m\u001b[0m\u001b[0;34m\u001b[0m\u001b[0m\n\u001b[1;32m      5\u001b[0m \u001b[0ms\u001b[0m\u001b[0;34m=\u001b[0m\u001b[0;34m[\u001b[0m\u001b[0;34m]\u001b[0m\u001b[0;34m\u001b[0m\u001b[0;34m\u001b[0m\u001b[0m\n\u001b[0;32m----> 6\u001b[0;31m \u001b[0ms\u001b[0m\u001b[0;34m.\u001b[0m\u001b[0mappend\u001b[0m\u001b[0;34m(\u001b[0m\u001b[0mlist\u001b[0m\u001b[0;34m(\u001b[0m\u001b[0mnp\u001b[0m\u001b[0;34m.\u001b[0m\u001b[0msum\u001b[0m\u001b[0;34m(\u001b[0m\u001b[0ma\u001b[0m\u001b[0;34m*\u001b[0m\u001b[0mb\u001b[0m\u001b[0;34m)\u001b[0m\u001b[0;34m)\u001b[0m\u001b[0;34m)\u001b[0m\u001b[0;34m\u001b[0m\u001b[0;34m\u001b[0m\u001b[0m\n\u001b[0m\u001b[1;32m      7\u001b[0m \u001b[0mprint\u001b[0m\u001b[0;34m(\u001b[0m\u001b[0ms\u001b[0m\u001b[0;34m)\u001b[0m\u001b[0;34m\u001b[0m\u001b[0;34m\u001b[0m\u001b[0m\n",
            "\u001b[0;31mTypeError\u001b[0m: 'numpy.int64' object is not iterable"
          ]
        }
      ]
    }
  ]
}